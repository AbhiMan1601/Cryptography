{
 "cells": [
  {
   "cell_type": "code",
   "execution_count": 17,
   "metadata": {},
   "outputs": [],
   "source": [
    "# Fast Powwering Algorithm\n",
    "# Low Storage Variant\n",
    "# With help from Stack Exchange to remove bugs in original code\n",
    "\n",
    "def FPA(k, x, q):\n",
    "        # make sure all variables are non-negative\n",
    "    assert (k >= 0 and x >= 0 and q >=1)\n",
    "    result = 1 # define a counter \n",
    "    while x:\n",
    "        if x % 2 == 1:\n",
    "            result = (result * k) % q\n",
    "            k = (k ^ 2) % q\n",
    "            x >>= 1 # bit shift operator, dividing x by 2 ** y thus x >> 2 ** 1 = x / 2 \n",
    "    return result"
   ]
  },
  {
   "cell_type": "code",
   "execution_count": 19,
   "metadata": {},
   "outputs": [
    {
     "data": {
      "text/plain": [
       "72"
      ]
     },
     "execution_count": 19,
     "metadata": {},
     "output_type": "execute_result"
    }
   ],
   "source": [
    "FPA(1000,3, 218)"
   ]
  },
  {
   "cell_type": "markdown",
   "metadata": {},
   "source": [
    " Supposed to be the more storage efficient algorithm - executed in 2log(218) steps. "
   ]
  }
 ],
 "metadata": {
  "kernelspec": {
   "display_name": "Python 3",
   "language": "python",
   "name": "python3"
  },
  "language_info": {
   "codemirror_mode": {
    "name": "ipython",
    "version": 3
   },
   "file_extension": ".py",
   "mimetype": "text/x-python",
   "name": "python",
   "nbconvert_exporter": "python",
   "pygments_lexer": "ipython3",
   "version": "3.9.1"
  },
  "orig_nbformat": 4
 },
 "nbformat": 4,
 "nbformat_minor": 2
}
